{
 "cells": [
  {
   "cell_type": "markdown",
   "id": "652cd4fe-0064-4562-a55f-cf912482f0b2",
   "metadata": {},
   "source": [
    "# PDF"
   ]
  },
  {
   "cell_type": "code",
   "execution_count": 1,
   "id": "24901b76-778c-4a90-9005-6090801b6087",
   "metadata": {},
   "outputs": [],
   "source": [
    "import re\n",
    "import psutil\n",
    "import zipfile\n",
    "import chardet\n",
    "import numpy as np\n",
    "import subprocess\n",
    "from sklearn.feature_extraction.text import CountVectorizer\n",
    "from sklearn.model_selection import KFold\n",
    "from sklearn.metrics import balanced_accuracy_score"
   ]
  },
  {
   "cell_type": "markdown",
   "id": "e6a42cd8-4834-4194-925d-640774ec620f",
   "metadata": {},
   "source": [
    "## 0 Current RAM usage monitoring"
   ]
  },
  {
   "cell_type": "code",
   "execution_count": 2,
   "id": "9c99c408-2cdd-4aab-b13e-dd0e34742212",
   "metadata": {},
   "outputs": [
    {
     "name": "stdout",
     "output_type": "stream",
     "text": [
      "Current RAM usage: 0.13 / 24 GB (0.6 %)\n"
     ]
    }
   ],
   "source": [
    "def get_ram_usage():\n",
    "    memory_info = psutil.Process().memory_info()\n",
    "    return memory_info.rss / (1024 * 1024 * 1024)\n",
    "print(f\"Current RAM usage: {get_ram_usage():.2f} / 24 GB ({get_ram_usage()/24*100:.1f} %)\")"
   ]
  },
  {
   "cell_type": "markdown",
   "id": "ce790226-6c3c-4a5c-a00a-44acb8cc1d24",
   "metadata": {},
   "source": [
    "## 1 Process data"
   ]
  },
  {
   "cell_type": "code",
   "execution_count": 3,
   "id": "5e86db4b-a191-4ce9-afd0-2c9fc475f6c9",
   "metadata": {
    "scrolled": true
   },
   "outputs": [
    {
     "name": "stdout",
     "output_type": "stream",
     "text": [
      "Number of PDFs: 1000\n",
      "get_rtf_generator() iter 0 done\n",
      "get_rtf_generator() iter 100 done\n",
      "get_rtf_generator() iter 200 done\n",
      "get_rtf_generator() iter 300 done\n",
      "get_rtf_generator() iter 400 done\n",
      "get_rtf_generator() iter 500 done\n",
      "get_rtf_generator() iter 600 done\n",
      "get_rtf_generator() iter 700 done\n",
      "get_rtf_generator() iter 800 done\n",
      "get_rtf_generator() iter 900 done\n"
     ]
    },
    {
     "name": "stderr",
     "output_type": "stream",
     "text": [
      "Traceback (most recent call last):\n",
      "  File \"/home/stud09/env/python/unit2/pdf/pdf-parser.py\", line 1810, in <module>\n",
      "    Main()\n",
      "  File \"/home/stud09/env/python/unit2/pdf/pdf-parser.py\", line 1588, in Main\n",
      "    object = oPDFParser.GetObject()\n",
      "             ^^^^^^^^^^^^^^^^^^^^^^\n",
      "  File \"/home/stud09/env/python/unit2/pdf/pdf-parser.py\", line 435, in GetObject\n",
      "    if IsNumeric(self.token2[1]):\n",
      "                 ~~~~~~~~~~~^^^\n",
      "TypeError: 'NoneType' object is not subscriptable\n"
     ]
    },
    {
     "name": "stdout",
     "output_type": "stream",
     "text": [
      "CalledProcessError hilqurvvrbpinjkf.1\n"
     ]
    },
    {
     "name": "stderr",
     "output_type": "stream",
     "text": [
      "Traceback (most recent call last):\n",
      "  File \"/home/stud09/env/python/unit2/pdf/pdf-parser.py\", line 1810, in <module>\n",
      "    Main()\n",
      "  File \"/home/stud09/env/python/unit2/pdf/pdf-parser.py\", line 1588, in Main\n",
      "    object = oPDFParser.GetObject()\n",
      "             ^^^^^^^^^^^^^^^^^^^^^^\n",
      "  File \"/home/stud09/env/python/unit2/pdf/pdf-parser.py\", line 435, in GetObject\n",
      "    if IsNumeric(self.token2[1]):\n",
      "                 ~~~~~~~~~~~^^^\n",
      "TypeError: 'NoneType' object is not subscriptable\n"
     ]
    },
    {
     "name": "stdout",
     "output_type": "stream",
     "text": [
      "CalledProcessError npvjmiyevbdkzxex.1\n"
     ]
    }
   ],
   "source": [
    "##### 1.1 Get files and extract features #####\n",
    "    \n",
    "# PDFID\n",
    "def read_pdf_file_pdfid(file_path):\n",
    "    output = subprocess.check_output(['python3', 'pdfid/pdfid.py', file_path])\n",
    "    return output.decode('utf-8')\n",
    "\n",
    "def extract_stats_pdfid(pdf):\n",
    "    \"\"\"\n",
    "    Creates a dictionary with different possible elements for a pdf and their count in our pdf\n",
    "    \"\"\"\n",
    "    pdf1 = pdf[pdf.find('\\n')+1:]\n",
    "    pdf2 = pdf1[pdf1.find('\\n')+1:]\n",
    "    values = list(map(int, re.findall(r'\\d+', pdf2)[:-10] + re.findall(r'\\d+', pdf2)[-9:-3] + re.findall(r'\\d+', pdf2)[-1:]))\n",
    "    keys = ['obj', 'endobj', 'stream', 'endstream', 'xref', 'trailer', 'startxref', 'Page', 'Encrypt', 'ObjStm', 'JS', 'JavaScript', \n",
    "            'AA', 'OpenAction', 'AcroForm', 'JBIG2Decode', 'RichMedia', 'Launch', 'EmbeddedFile', 'XFA', 'URI', 'Colors']\n",
    "    return dict(zip(keys, values))\n",
    "\n",
    "# PDF-PARSER\n",
    "def read_pdf_file_pdfparser(file_path):\n",
    "    output = subprocess.check_output(['python3', 'pdf-parser.py', file_path, '--stats'])\n",
    "    return output.decode('utf-8')\n",
    "\n",
    "def extract_stats_pdfparser_header(pdf):\n",
    "    pdf_header = pdf[:pdf.find('/')].split('\\n')[2:]\n",
    "    l = []\n",
    "    for line in pdf_header[:-1]:\n",
    "        number = list(map(int, re.findall(r'\\d+', line)))\n",
    "        l += [number]\n",
    "    if len(l) < 7:\n",
    "        l.append([])\n",
    "    l[-2] = len(l[-2])\n",
    "    try:\n",
    "        l[-1] = l[-1][0] if l[-1] != [] else 0\n",
    "    except IndexError:\n",
    "        print('list l:', l)\n",
    "    stats_header = list(map(lambda x: x[0] if type(x) == list else x, l))\n",
    "    return dict(zip(['Comment', 'XREF', 'Trailer', 'StartXref', 'Indirect object', 'Indirect objects with a stream', 'number:'], stats_header))\n",
    "\n",
    "def extract_one_feature_pdfparser(pdf, feature):\n",
    "    index = pdf.find(feature)\n",
    "    found_digit = re.search(r'\\d+', pdf[index:])\n",
    "    if found_digit:\n",
    "        return found_digit.group()\n",
    "    else:\n",
    "        return None\n",
    "\n",
    "def extract_stats_pdfparser_features(pdf):\n",
    "    interesting_features = [ '/JS ', '/JavaScript ', '/AA ', '/OpenAction ', '/URI ', '/Launch ', '/GoTo ', '/GoToR ', '/GoToE ', \n",
    "                            '/SubmitForm ', '/ImportData ', '/Sound ', '/Movie ', '/Rendition ', '/3D ', '/RichMedia ', '/EmbeddedFile ', \n",
    "                            '/FileAttachment ', '/Metadata ', '/XObject ', '/Page ', '/Pages ']\n",
    "    values = []\n",
    "    for feature in interesting_features:\n",
    "        value = extract_one_feature_pdfparser(pdf, feature)\n",
    "        values += [value] if value else [0]\n",
    "    return dict(zip(interesting_features, values))\n",
    "\n",
    "def extract_stats_pdfparser(pdf):\n",
    "    return extract_stats_pdfparser_header(pdf) | extract_stats_pdfparser_features(pdf)    \n",
    "\n",
    "def read_pdf_file(file_path):\n",
    "    output = subprocess.check_output(['python3', 'pdf-parser.py', file_path])\n",
    "    return output.decode('utf-8')\n",
    "\n",
    "# def read_pdf_file(file_path):\n",
    "#     with open(file_path, 'rb') as file:\n",
    "#         pdf_content = file.read()\n",
    "#     # Decode the file\n",
    "#     encoding = chardet.detect(pdf_content)[\"encoding\"]\n",
    "#     pdf_content = pdf_content.decode(encoding if encoding != None else 'ascii', errors='replace')\n",
    "#     return pdf_content\n",
    "\n",
    "# Get features with PDFID, PDFPARSER (and BoW?)\n",
    "def get_pdf_generator(pdf_filenames_train, labels_train, decoded_indices_train, train=True):\n",
    "    errors_train = 0\n",
    "    for i, pdfname in enumerate(pdf_filenames_train):\n",
    "        try:\n",
    "            labels_train += [int(pdfname[-1])] if train else []   \n",
    "            if i % 100 == 0:\n",
    "                print(f'get_rtf_generator() iter {i} done')\n",
    "            # # PDFID\n",
    "            # pdf_stats_pdfid = read_pdf_file_pdfid(pdfname)\n",
    "            # pdf_stats_pdfid = extract_stats_pdfid(pdf_stats_pdfid)\n",
    "            # stats_pdfid_train[i] = np.array(list(pdf_stats_pdfid.values())) \n",
    "            # # PDF-PARSER\n",
    "            # pdf_stats_pdfparser = read_pdf_file_pdfparser(pdfname)\n",
    "            # pdf_stats_pdfparser = extract_stats_pdfparser(pdf_stats_pdfparser)\n",
    "            # try:\n",
    "            #     stats_pdfparser_train[i] = np.array(list(pdf_stats_pdfparser.values())) \n",
    "            # except ValueError:\n",
    "            #     stats_pdfparser_train[i] = np.zeros(29) \n",
    "            yield read_pdf_file(pdfname)\n",
    "        except subprocess.CalledProcessError:\n",
    "            errors_train += 1\n",
    "            decoded_indices_train[i] = 0\n",
    "            print(f'CalledProcessError {pdfname[-18:]}')\n",
    "\n",
    "### VARIABLES ###\n",
    "pdf_filenames_train = zipfile.ZipFile('pdf-train.zip').namelist()[:1000]\n",
    "# pdf_filenames_train = zipfile.ZipFile('pdf-train.zip').namelist()[:-1]\n",
    "print(f'Number of PDFs: {len(pdf_filenames_train)}')\n",
    "decode = False\n",
    "n = 3 # Value for n-grams\n",
    "\n",
    "labels_train, decoded_indices_train = [], np.ones(len(pdf_filenames_train))\n",
    "generator_pdf_train = get_pdf_generator(pdf_filenames_train, labels_train, decoded_indices_train, train=True)\n",
    "\n",
    "vectorizer = CountVectorizer(strip_accents='unicode', ngram_range=(n,n), analyzer='word', min_df=5) #(100, 22673) RF 0.914 | 0.04 ### (100, 7111) RF 0.902, 0.0679\n",
    "# vectorizer = CountVectorizer(strip_accents='unicode', ngram_range=(n,n), analyzer='word', min_df=15) #(100, 22673) RF 0.914 | 0.04 ### (100, 7111) RF 0.902, 0.0679\n",
    "# vectorizer = CountVectorizer(strip_accents='unicode', ngram_range=(n,n), analyzer='char', min_df=5) #(100, 98652) RF 0.874 | 0.050 ### (100, 3723) RF 0.872, 0.0933\n",
    "features_train = vectorizer.fit_transform(generator_pdf_train).toarray()\n",
    "labels_train = np.array(labels_train)[decoded_indices_train.astype(bool)]"
   ]
  },
  {
   "cell_type": "code",
   "execution_count": 41,
   "id": "9442d84e-1c55-48d2-9df5-1a76c34dee9e",
   "metadata": {
    "scrolled": true
   },
   "outputs": [
    {
     "data": {
      "text/plain": [
       "(997, 18422)"
      ]
     },
     "execution_count": 41,
     "metadata": {},
     "output_type": "execute_result"
    }
   ],
   "source": [
    "##### 1.2 Save/load data #####\n",
    "\n",
    "filename_features, filename_labels = 'features_pdfid_pdfparser_train.npy', 'labels_train.npy'\n",
    "# np.save(filename_features, features_train)\n",
    "# np.save(filename_labels, labels_train)\n",
    "# features_train = np.load(filename_features)\n",
    "# labels_train = np.load(filename_labels)\n",
    "\n",
    "features_train.shape"
   ]
  },
  {
   "cell_type": "markdown",
   "id": "dd137f38-c0df-4e2f-b402-452f8267ab47",
   "metadata": {},
   "source": [
    "## 2 Train model"
   ]
  },
  {
   "cell_type": "markdown",
   "id": "9b10ab07-dd08-440a-85bb-1944e654915f",
   "metadata": {
    "jp-MarkdownHeadingCollapsed": true
   },
   "source": [
    "### 2.0 K-fold cross-validation"
   ]
  },
  {
   "cell_type": "code",
   "execution_count": 4,
   "id": "36ba3414-9d3f-4fcf-a3b2-43bc8959bfa4",
   "metadata": {},
   "outputs": [],
   "source": [
    "def train_evaluate(model, features, labels, model_name='base-model', n_splits=5, fit_whole_dataset=True):\n",
    "    # K-Fold CV\n",
    "    kf = KFold(n_splits=n_splits, shuffle=True, random_state=0)\n",
    "    accuracy_list, var_list = [], []\n",
    "    split = 0\n",
    "    \n",
    "    # Training + metrics\n",
    "    for idx_train, idx_eval in kf.split(features):\n",
    "        X_train, X_eval, y_train, y_eval = features[idx_train], features[idx_eval], labels[idx_train], labels[idx_eval]\n",
    "        # Fit the model\n",
    "        model.fit(X_train, y_train)\n",
    "        # Predict\n",
    "        y_pred = model.predict(X_eval)\n",
    "        # Evaluate \n",
    "        acc = balanced_accuracy_score(y_eval, y_pred)\n",
    "        accuracy_list += [acc*len(y_eval)]\n",
    "        var_list += [acc]\n",
    "        print(f'Split {split} done')\n",
    "        split += 1\n",
    "        \n",
    "    # Compute CV_score\n",
    "    cvscore = sum(accuracy_list)/len(labels)\n",
    "    variance = np.std(var_list)\n",
    "    print(f'{model_name}: CV-score = {cvscore:.3f}, Variance = {variance:.4f}\\n')\n",
    "\n",
    "    # Train the model on the whole Train dataset\n",
    "    if fit_whole_dataset:\n",
    "        model.fit(features, labels)\n",
    "    \n",
    "    return cvscore, variance"
   ]
  },
  {
   "cell_type": "markdown",
   "id": "cc494c3c-29f5-45e9-85c9-528ac50f2459",
   "metadata": {},
   "source": [
    "### 2.1 Train different models"
   ]
  },
  {
   "cell_type": "code",
   "execution_count": 5,
   "id": "b4fa3843-bd70-49e3-8925-41012fd2ac40",
   "metadata": {},
   "outputs": [
    {
     "name": "stdout",
     "output_type": "stream",
     "text": [
      "Split 0 done\n",
      "Split 1 done\n"
     ]
    },
    {
     "name": "stderr",
     "output_type": "stream",
     "text": [
      "/home/stud09/env/lib/python3.11/site-packages/sklearn/ensemble/_forest.py:435: UserWarning: Warm-start fitting without increasing n_estimators does not fit new trees.\n",
      "  warn(\n",
      "/home/stud09/env/lib/python3.11/site-packages/sklearn/ensemble/_forest.py:435: UserWarning: Warm-start fitting without increasing n_estimators does not fit new trees.\n",
      "  warn(\n",
      "/home/stud09/env/lib/python3.11/site-packages/sklearn/ensemble/_forest.py:435: UserWarning: Warm-start fitting without increasing n_estimators does not fit new trees.\n",
      "  warn(\n"
     ]
    },
    {
     "name": "stdout",
     "output_type": "stream",
     "text": [
      "Split 2 done\n",
      "Split 3 done\n",
      "Split 4 done\n",
      "RFC(): CV-score = 0.994, Variance = 0.0110\n",
      "\n",
      "CPU times: user 7.21 s, sys: 143 ms, total: 7.35 s\n",
      "Wall time: 7.35 s\n"
     ]
    },
    {
     "name": "stderr",
     "output_type": "stream",
     "text": [
      "/home/stud09/env/lib/python3.11/site-packages/sklearn/ensemble/_forest.py:435: UserWarning: Warm-start fitting without increasing n_estimators does not fit new trees.\n",
      "  warn(\n",
      "/home/stud09/env/lib/python3.11/site-packages/sklearn/ensemble/_forest.py:435: UserWarning: Warm-start fitting without increasing n_estimators does not fit new trees.\n",
      "  warn(\n"
     ]
    }
   ],
   "source": [
    "# Random Forest\n",
    "\n",
    "from sklearn.ensemble import RandomForestClassifier\n",
    "\n",
    "rf_model = RandomForestClassifier(random_state=0, warm_start=True, n_estimators=1000)\n",
    "%time _ = train_evaluate(rf_model, features_train, labels_train, model_name=\"RFC()\", n_splits=5, fit_whole_dataset=True)"
   ]
  },
  {
   "cell_type": "code",
   "execution_count": null,
   "id": "f1283da2-1381-4043-8966-115b62de7632",
   "metadata": {},
   "outputs": [],
   "source": [
    "# Gradient Boosting\n",
    "\n",
    "from sklearn.ensemble import GradientBoostingClassifier\n",
    "\n",
    "gb_model = GradientBoostingClassifier(warm_start=True)\n",
    "%time _ = train_evaluate(gb_model, features_train, labels_train, model_name=\"GBC()\", n_splits=5, fit_whole_dataset=False)"
   ]
  },
  {
   "cell_type": "code",
   "execution_count": 37,
   "id": "e839ea00-847d-4421-9c60-d698ae0ee316",
   "metadata": {},
   "outputs": [
    {
     "name": "stdout",
     "output_type": "stream",
     "text": [
      "Split 0 done\n",
      "Split 1 done\n",
      "Split 2 done\n",
      "Split 3 done\n",
      "Split 4 done\n",
      "DTC(): CV-score = 0.930, Variance = 0.0099\n",
      "\n",
      "CPU times: user 2.51 s, sys: 129 ms, total: 2.64 s\n",
      "Wall time: 2.63 s\n"
     ]
    }
   ],
   "source": [
    "# Decision Tree\n",
    "\n",
    "from sklearn.tree import DecisionTreeClassifier\n",
    "\n",
    "dt_model = DecisionTreeClassifier()\n",
    "%time _ = train_evaluate(dt_model, features_train, labels_train, model_name=\"DTC()\", n_splits=5, fit_whole_dataset=False)"
   ]
  },
  {
   "cell_type": "code",
   "execution_count": 38,
   "id": "3935cafc-6fb7-45ec-b21c-5877056f972c",
   "metadata": {},
   "outputs": [
    {
     "name": "stdout",
     "output_type": "stream",
     "text": [
      "Split 0 done\n",
      "Split 1 done\n",
      "Split 2 done\n",
      "Split 3 done\n",
      "Split 4 done\n",
      "SVC(): CV-score = 0.727, Variance = 0.0657\n",
      "\n",
      "CPU times: user 2min, sys: 3min 1s, total: 5min 1s\n",
      "Wall time: 30.3 s\n"
     ]
    }
   ],
   "source": [
    "# SVM\n",
    "\n",
    "from sklearn.svm import SVC\n",
    "\n",
    "svc_model = SVC()\n",
    "%time _ = train_evaluate(svc_model, features_train, labels_train, model_name=\"SVC()\", n_splits=5, fit_whole_dataset=False)"
   ]
  },
  {
   "cell_type": "markdown",
   "id": "53df0309-76dd-4355-8779-5011b6b66faa",
   "metadata": {},
   "source": [
    "## 3 Predict on test dataset"
   ]
  },
  {
   "cell_type": "code",
   "execution_count": 7,
   "id": "aa2e2473-d756-48d4-afc3-edb8ce9bf257",
   "metadata": {},
   "outputs": [
    {
     "name": "stdout",
     "output_type": "stream",
     "text": [
      "Number of PDFs: 2895\n",
      "get_rtf_generator() iter 0 done\n",
      "get_rtf_generator() iter 100 done\n",
      "get_rtf_generator() iter 200 done\n"
     ]
    },
    {
     "name": "stderr",
     "output_type": "stream",
     "text": [
      "Traceback (most recent call last):\n",
      "  File \"/home/stud09/env/python/unit2/pdf/pdf-parser.py\", line 1810, in <module>\n",
      "    Main()\n",
      "  File \"/home/stud09/env/python/unit2/pdf/pdf-parser.py\", line 1588, in Main\n",
      "    object = oPDFParser.GetObject()\n",
      "             ^^^^^^^^^^^^^^^^^^^^^^\n",
      "  File \"/home/stud09/env/python/unit2/pdf/pdf-parser.py\", line 385, in GetObject\n",
      "    if self.token2[0] == CHAR_REGULAR:\n",
      "       ~~~~~~~~~~~^^^\n",
      "TypeError: 'NoneType' object is not subscriptable\n"
     ]
    },
    {
     "name": "stdout",
     "output_type": "stream",
     "text": [
      "CalledProcessError chudaylojkynllpz.x\n",
      "get_rtf_generator() iter 300 done\n",
      "get_rtf_generator() iter 400 done\n",
      "get_rtf_generator() iter 500 done\n",
      "get_rtf_generator() iter 600 done\n",
      "get_rtf_generator() iter 700 done\n",
      "get_rtf_generator() iter 800 done\n",
      "get_rtf_generator() iter 900 done\n"
     ]
    },
    {
     "name": "stderr",
     "output_type": "stream",
     "text": [
      "Traceback (most recent call last):\n",
      "  File \"/home/stud09/env/python/unit2/pdf/pdf-parser.py\", line 1810, in <module>\n",
      "    Main()\n",
      "  File \"/home/stud09/env/python/unit2/pdf/pdf-parser.py\", line 1588, in Main\n",
      "    object = oPDFParser.GetObject()\n",
      "             ^^^^^^^^^^^^^^^^^^^^^^\n",
      "  File \"/home/stud09/env/python/unit2/pdf/pdf-parser.py\", line 435, in GetObject\n",
      "    if IsNumeric(self.token2[1]):\n",
      "                 ~~~~~~~~~~~^^^\n",
      "TypeError: 'NoneType' object is not subscriptable\n"
     ]
    },
    {
     "name": "stdout",
     "output_type": "stream",
     "text": [
      "CalledProcessError soncozobmukqkolb.x\n",
      "get_rtf_generator() iter 1000 done\n"
     ]
    },
    {
     "name": "stderr",
     "output_type": "stream",
     "text": [
      "Traceback (most recent call last):\n",
      "  File \"/home/stud09/env/python/unit2/pdf/pdf-parser.py\", line 1810, in <module>\n",
      "    Main()\n",
      "  File \"/home/stud09/env/python/unit2/pdf/pdf-parser.py\", line 1588, in Main\n",
      "    object = oPDFParser.GetObject()\n",
      "             ^^^^^^^^^^^^^^^^^^^^^^\n",
      "  File \"/home/stud09/env/python/unit2/pdf/pdf-parser.py\", line 435, in GetObject\n",
      "    if IsNumeric(self.token2[1]):\n",
      "                 ~~~~~~~~~~~^^^\n",
      "TypeError: 'NoneType' object is not subscriptable\n"
     ]
    },
    {
     "name": "stdout",
     "output_type": "stream",
     "text": [
      "CalledProcessError llpehvnmkaajawjw.x\n"
     ]
    },
    {
     "name": "stderr",
     "output_type": "stream",
     "text": [
      "Traceback (most recent call last):\n",
      "  File \"/home/stud09/env/python/unit2/pdf/pdf-parser.py\", line 1810, in <module>\n",
      "    Main()\n",
      "  File \"/home/stud09/env/python/unit2/pdf/pdf-parser.py\", line 1588, in Main\n",
      "    object = oPDFParser.GetObject()\n",
      "             ^^^^^^^^^^^^^^^^^^^^^^\n",
      "  File \"/home/stud09/env/python/unit2/pdf/pdf-parser.py\", line 435, in GetObject\n",
      "    if IsNumeric(self.token2[1]):\n",
      "                 ~~~~~~~~~~~^^^\n",
      "TypeError: 'NoneType' object is not subscriptable\n"
     ]
    },
    {
     "name": "stdout",
     "output_type": "stream",
     "text": [
      "CalledProcessError eoecdodiwgupffus.x\n",
      "get_rtf_generator() iter 1100 done\n",
      "get_rtf_generator() iter 1200 done\n"
     ]
    },
    {
     "name": "stderr",
     "output_type": "stream",
     "text": [
      "Traceback (most recent call last):\n",
      "  File \"/home/stud09/env/python/unit2/pdf/pdf-parser.py\", line 1810, in <module>\n",
      "    Main()\n",
      "  File \"/home/stud09/env/python/unit2/pdf/pdf-parser.py\", line 1588, in Main\n",
      "    object = oPDFParser.GetObject()\n",
      "             ^^^^^^^^^^^^^^^^^^^^^^\n",
      "  File \"/home/stud09/env/python/unit2/pdf/pdf-parser.py\", line 435, in GetObject\n",
      "    if IsNumeric(self.token2[1]):\n",
      "                 ~~~~~~~~~~~^^^\n",
      "TypeError: 'NoneType' object is not subscriptable\n"
     ]
    },
    {
     "name": "stdout",
     "output_type": "stream",
     "text": [
      "CalledProcessError dotpeuwoghyosgby.x\n",
      "get_rtf_generator() iter 1300 done\n"
     ]
    },
    {
     "name": "stderr",
     "output_type": "stream",
     "text": [
      "Traceback (most recent call last):\n",
      "  File \"/home/stud09/env/python/unit2/pdf/pdf-parser.py\", line 1810, in <module>\n",
      "    Main()\n",
      "  File \"/home/stud09/env/python/unit2/pdf/pdf-parser.py\", line 1588, in Main\n",
      "    object = oPDFParser.GetObject()\n",
      "             ^^^^^^^^^^^^^^^^^^^^^^\n",
      "  File \"/home/stud09/env/python/unit2/pdf/pdf-parser.py\", line 435, in GetObject\n",
      "    if IsNumeric(self.token2[1]):\n",
      "                 ~~~~~~~~~~~^^^\n",
      "TypeError: 'NoneType' object is not subscriptable\n"
     ]
    },
    {
     "name": "stdout",
     "output_type": "stream",
     "text": [
      "CalledProcessError qcizfoskpxmbjxbd.x\n",
      "get_rtf_generator() iter 1400 done\n",
      "get_rtf_generator() iter 1500 done\n"
     ]
    },
    {
     "name": "stderr",
     "output_type": "stream",
     "text": [
      "Traceback (most recent call last):\n",
      "  File \"/home/stud09/env/python/unit2/pdf/pdf-parser.py\", line 1810, in <module>\n",
      "    Main()\n",
      "  File \"/home/stud09/env/python/unit2/pdf/pdf-parser.py\", line 1588, in Main\n",
      "    object = oPDFParser.GetObject()\n",
      "             ^^^^^^^^^^^^^^^^^^^^^^\n",
      "  File \"/home/stud09/env/python/unit2/pdf/pdf-parser.py\", line 435, in GetObject\n",
      "    if IsNumeric(self.token2[1]):\n",
      "                 ~~~~~~~~~~~^^^\n",
      "TypeError: 'NoneType' object is not subscriptable\n"
     ]
    },
    {
     "name": "stdout",
     "output_type": "stream",
     "text": [
      "CalledProcessError hrnmndpusbrvbhxo.x\n",
      "get_rtf_generator() iter 1600 done\n",
      "get_rtf_generator() iter 1700 done\n"
     ]
    },
    {
     "name": "stderr",
     "output_type": "stream",
     "text": [
      "Traceback (most recent call last):\n",
      "  File \"/home/stud09/env/python/unit2/pdf/pdf-parser.py\", line 1810, in <module>\n",
      "    Main()\n",
      "  File \"/home/stud09/env/python/unit2/pdf/pdf-parser.py\", line 1588, in Main\n",
      "    object = oPDFParser.GetObject()\n",
      "             ^^^^^^^^^^^^^^^^^^^^^^\n",
      "  File \"/home/stud09/env/python/unit2/pdf/pdf-parser.py\", line 437, in GetObject\n",
      "    if self.token3[1] == 'obj':\n",
      "       ~~~~~~~~~~~^^^\n",
      "TypeError: 'NoneType' object is not subscriptable\n"
     ]
    },
    {
     "name": "stdout",
     "output_type": "stream",
     "text": [
      "CalledProcessError gnzxkrctonffymgh.x\n",
      "get_rtf_generator() iter 1800 done\n"
     ]
    },
    {
     "name": "stderr",
     "output_type": "stream",
     "text": [
      "Traceback (most recent call last):\n",
      "  File \"/home/stud09/env/python/unit2/pdf/pdf-parser.py\", line 1810, in <module>\n",
      "    Main()\n",
      "  File \"/home/stud09/env/python/unit2/pdf/pdf-parser.py\", line 1588, in Main\n",
      "    object = oPDFParser.GetObject()\n",
      "             ^^^^^^^^^^^^^^^^^^^^^^\n",
      "  File \"/home/stud09/env/python/unit2/pdf/pdf-parser.py\", line 435, in GetObject\n",
      "    if IsNumeric(self.token2[1]):\n",
      "                 ~~~~~~~~~~~^^^\n",
      "TypeError: 'NoneType' object is not subscriptable\n"
     ]
    },
    {
     "name": "stdout",
     "output_type": "stream",
     "text": [
      "CalledProcessError uyuatzshsjpabtrw.x\n",
      "get_rtf_generator() iter 1900 done\n"
     ]
    },
    {
     "name": "stderr",
     "output_type": "stream",
     "text": [
      "Traceback (most recent call last):\n",
      "  File \"/home/stud09/env/python/unit2/pdf/pdf-parser.py\", line 1810, in <module>\n",
      "    Main()\n",
      "  File \"/home/stud09/env/python/unit2/pdf/pdf-parser.py\", line 1588, in Main\n",
      "    object = oPDFParser.GetObject()\n",
      "             ^^^^^^^^^^^^^^^^^^^^^^\n",
      "  File \"/home/stud09/env/python/unit2/pdf/pdf-parser.py\", line 435, in GetObject\n",
      "    if IsNumeric(self.token2[1]):\n",
      "                 ~~~~~~~~~~~^^^\n",
      "TypeError: 'NoneType' object is not subscriptable\n"
     ]
    },
    {
     "name": "stdout",
     "output_type": "stream",
     "text": [
      "CalledProcessError mgacvtehynhhxvbb.x\n",
      "get_rtf_generator() iter 2000 done\n",
      "get_rtf_generator() iter 2100 done\n"
     ]
    },
    {
     "name": "stderr",
     "output_type": "stream",
     "text": [
      "Traceback (most recent call last):\n",
      "  File \"/home/stud09/env/python/unit2/pdf/pdf-parser.py\", line 1810, in <module>\n",
      "    Main()\n",
      "  File \"/home/stud09/env/python/unit2/pdf/pdf-parser.py\", line 1588, in Main\n",
      "    object = oPDFParser.GetObject()\n",
      "             ^^^^^^^^^^^^^^^^^^^^^^\n",
      "  File \"/home/stud09/env/python/unit2/pdf/pdf-parser.py\", line 435, in GetObject\n",
      "    if IsNumeric(self.token2[1]):\n",
      "                 ~~~~~~~~~~~^^^\n",
      "TypeError: 'NoneType' object is not subscriptable\n"
     ]
    },
    {
     "name": "stdout",
     "output_type": "stream",
     "text": [
      "CalledProcessError nckeiqfnjbbjnwwt.x\n",
      "get_rtf_generator() iter 2200 done\n",
      "get_rtf_generator() iter 2300 done\n",
      "get_rtf_generator() iter 2400 done\n",
      "get_rtf_generator() iter 2500 done\n"
     ]
    },
    {
     "name": "stderr",
     "output_type": "stream",
     "text": [
      "Traceback (most recent call last):\n",
      "  File \"/home/stud09/env/python/unit2/pdf/pdf-parser.py\", line 1810, in <module>\n",
      "    Main()\n",
      "  File \"/home/stud09/env/python/unit2/pdf/pdf-parser.py\", line 1588, in Main\n",
      "    object = oPDFParser.GetObject()\n",
      "             ^^^^^^^^^^^^^^^^^^^^^^\n",
      "  File \"/home/stud09/env/python/unit2/pdf/pdf-parser.py\", line 435, in GetObject\n",
      "    if IsNumeric(self.token2[1]):\n",
      "                 ~~~~~~~~~~~^^^\n",
      "TypeError: 'NoneType' object is not subscriptable\n"
     ]
    },
    {
     "name": "stdout",
     "output_type": "stream",
     "text": [
      "CalledProcessError oyxqiqoatvpebmac.x\n",
      "get_rtf_generator() iter 2600 done\n",
      "get_rtf_generator() iter 2700 done\n"
     ]
    },
    {
     "name": "stderr",
     "output_type": "stream",
     "text": [
      "Traceback (most recent call last):\n",
      "  File \"/home/stud09/env/python/unit2/pdf/pdf-parser.py\", line 1810, in <module>\n",
      "    Main()\n",
      "  File \"/home/stud09/env/python/unit2/pdf/pdf-parser.py\", line 1588, in Main\n",
      "    object = oPDFParser.GetObject()\n",
      "             ^^^^^^^^^^^^^^^^^^^^^^\n",
      "  File \"/home/stud09/env/python/unit2/pdf/pdf-parser.py\", line 435, in GetObject\n",
      "    if IsNumeric(self.token2[1]):\n",
      "                 ~~~~~~~~~~~^^^\n",
      "TypeError: 'NoneType' object is not subscriptable\n"
     ]
    },
    {
     "name": "stdout",
     "output_type": "stream",
     "text": [
      "CalledProcessError hkbefgisefkdawiz.x\n",
      "get_rtf_generator() iter 2800 done\n"
     ]
    },
    {
     "ename": "IndexError",
     "evalue": "boolean index did not match indexed array along dimension 0; dimension is 0 but corresponding boolean dimension is 2895",
     "output_type": "error",
     "traceback": [
      "\u001b[0;31m---------------------------------------------------------------------------\u001b[0m",
      "\u001b[0;31mIndexError\u001b[0m                                Traceback (most recent call last)",
      "Cell \u001b[0;32mIn[7], line 12\u001b[0m\n\u001b[1;32m      9\u001b[0m generator_pdf_test \u001b[38;5;241m=\u001b[39m get_pdf_generator(pdf_filenames_test, labels_test, decoded_indices_test, train\u001b[38;5;241m=\u001b[39m\u001b[38;5;28;01mFalse\u001b[39;00m)\n\u001b[1;32m     11\u001b[0m features_test \u001b[38;5;241m=\u001b[39m vectorizer\u001b[38;5;241m.\u001b[39mtransform(generator_pdf_test)\u001b[38;5;241m.\u001b[39mtoarray()\n\u001b[0;32m---> 12\u001b[0m labels_test \u001b[38;5;241m=\u001b[39m \u001b[43mnp\u001b[49m\u001b[38;5;241;43m.\u001b[39;49m\u001b[43marray\u001b[49m\u001b[43m(\u001b[49m\u001b[43mlabels_test\u001b[49m\u001b[43m)\u001b[49m\u001b[43m[\u001b[49m\u001b[43mdecoded_indices_test\u001b[49m\u001b[38;5;241;43m.\u001b[39;49m\u001b[43mastype\u001b[49m\u001b[43m(\u001b[49m\u001b[38;5;28;43mbool\u001b[39;49m\u001b[43m)\u001b[49m\u001b[43m]\u001b[49m\n\u001b[1;32m     14\u001b[0m \u001b[38;5;66;03m##### 1.2 Save/load data #####\u001b[39;00m\n\u001b[1;32m     16\u001b[0m filename_features, filename_labels \u001b[38;5;241m=\u001b[39m \u001b[38;5;124m'\u001b[39m\u001b[38;5;124mfeatures_pdfid_pdfparser_test_3.npy\u001b[39m\u001b[38;5;124m'\u001b[39m, \u001b[38;5;124m'\u001b[39m\u001b[38;5;124mlabels_test_3.npy\u001b[39m\u001b[38;5;124m'\u001b[39m\n",
      "\u001b[0;31mIndexError\u001b[0m: boolean index did not match indexed array along dimension 0; dimension is 0 but corresponding boolean dimension is 2895"
     ]
    }
   ],
   "source": [
    "### VARIABLES ###\n",
    "# pdf_filenames_test = zipfile.ZipFile('pdf-test.zip').namelist()[:100]\n",
    "pdf_filenames_test = zipfile.ZipFile('pdf-test.zip').namelist()\n",
    "print(f'Number of PDFs: {len(pdf_filenames_test)}')\n",
    "decode = False\n",
    "n = 3 # Value for n-grams\n",
    "\n",
    "labels_test, decoded_indices_test = [], np.ones(len(pdf_filenames_test))\n",
    "generator_pdf_test = get_pdf_generator(pdf_filenames_test, labels_test, decoded_indices_test, train=False)\n",
    "\n",
    "features_test = vectorizer.transform(generator_pdf_test).toarray()\n",
    "labels_test = np.array(labels_test)[decoded_indices_test.astype(bool)]\n",
    "\n",
    "##### 1.2 Save/load data #####\n",
    "\n",
    "filename_features, filename_labels = 'features_pdfid_pdfparser_test_3.npy', 'labels_test_3.npy'\n",
    "np.save(filename_features, features_test)\n",
    "np.save(filename_labels, labels_test)\n",
    "features_test.shape"
   ]
  },
  {
   "cell_type": "code",
   "execution_count": null,
   "id": "9a38ce9d-eefc-4451-8543-1ea734bab95c",
   "metadata": {},
   "outputs": [],
   "source": [
    "##### Predict of test dataset  #####\n",
    "\n",
    "X_test = features_test\n",
    "y_pred = rf_model.predict(X_test)\n",
    "\n",
    "\n",
    "##### Save submission #####\n",
    "\n",
    "submission = []\n",
    "i_corr = 0\n",
    "# Write the prediction as expected output\n",
    "for i, filename in enumerate(pdf_filenames_test):\n",
    "    if decoded_indices_test[i]:\n",
    "        submission += [filename + ';' + y_pred[i-i_corr].astype(str)]\n",
    "    else: # if email hasn't been decoded and thus predicted, we randomly choose its class / assign it to class 1\n",
    "        # submission += [filename + ';' + str(np.random.randint(2))]\n",
    "        submission += [filename + ';' + str(1)]\n",
    "        i_corr += 1\n",
    "print(f'Length of our submission: {len(submission)} | Length of zip file: {len(pdf_filenames_test)}')\n",
    "# Save the output as a text file\n",
    "np.savetxt('output_rf_n3_pdfparser_3.csv', np.array(submission), fmt='%s', delimiter=',')"
   ]
  },
  {
   "cell_type": "code",
   "execution_count": null,
   "id": "79ea07d8-2c4f-4786-9b1c-edadefd27763",
   "metadata": {},
   "outputs": [],
   "source": []
  }
 ],
 "metadata": {
  "kernelspec": {
   "display_name": "Python 3 (ipykernel)",
   "language": "python",
   "name": "python3"
  },
  "language_info": {
   "codemirror_mode": {
    "name": "ipython",
    "version": 3
   },
   "file_extension": ".py",
   "mimetype": "text/x-python",
   "name": "python",
   "nbconvert_exporter": "python",
   "pygments_lexer": "ipython3",
   "version": "3.11.2"
  }
 },
 "nbformat": 4,
 "nbformat_minor": 5
}
