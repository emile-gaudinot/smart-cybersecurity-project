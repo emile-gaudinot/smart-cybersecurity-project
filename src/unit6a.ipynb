{
 "cells": [
  {
   "cell_type": "markdown",
   "id": "a6292ccb-a643-4d1e-84c6-7cf2c8fdeb76",
   "metadata": {},
   "source": [
    "# Unit 6a - Adversarial ML"
   ]
  },
  {
   "cell_type": "markdown",
   "id": "5f328345-c73a-4ffe-b081-ca8cebd62a20",
   "metadata": {},
   "source": [
    "### Imports, functions and image plotting"
   ]
  },
  {
   "cell_type": "code",
   "execution_count": 2,
   "id": "c0da868c-d943-40ef-93dc-2984b8b6cd1f",
   "metadata": {},
   "outputs": [
    {
     "name": "stdout",
     "output_type": "stream",
     "text": [
      "Adversarial targets: tensor([6, 6, 7, 5, 2, 1, 2, 2, 9, 0])\n"
     ]
    },
    {
     "data": {
      "image/png": "[encoded data removed]",
      "text/plain": [
       "<Figure size 1400x1400 with 1 Axes>"
      ]
     },
     "metadata": {},
     "output_type": "display_data"
    }
   ],
   "source": [
    "## basic server interaction\n",
    "import json\n",
    "import requests\n",
    "import torch\n",
    "import torch.nn as nn\n",
    "import torch.optim as optim\n",
    "import numpy as np\n",
    "from matplotlib import pyplot as plt\n",
    "\n",
    "\n",
    "HOST = 'http://127.0.0.1:8000'\n",
    "POST_HEADERS = {'Content-Type': 'application/octet-stream'}\n",
    "\n",
    "\n",
    "def GET(path, **params):\n",
    "    url = f\"{HOST}/{path}\"\n",
    "    return requests.get(url, params=params)\n",
    "\n",
    "\n",
    "def POST(path, data_bytes):\n",
    "    url = f\"{HOST}/{path}\"\n",
    "    return requests.post(url, data=data_bytes, headers=POST_HEADERS)\n",
    "\n",
    "\n",
    "def activate(task, token):\n",
    "    return GET(\"api/activate\", task=task, token=token)\n",
    "\n",
    "\n",
    "def handle_errors(response):\n",
    "    if response.status_code != 200:\n",
    "        print(response.content)\n",
    "        raise RuntimeError(f\"Unexpected HTTP status: {response.status_code}\")\n",
    "\n",
    "\n",
    "def evasion_get_challenge():\n",
    "    response = GET(\"api/evasion/get_challenge\")\n",
    "    handle_errors(response)\n",
    "    challenge = json.loads(response.content.decode(\"utf-8\"))\n",
    "    images = torch.tensor(np.array(challenge[\"images\"], dtype=np.float32))\n",
    "    targets = torch.tensor(challenge[\"targets\"], dtype=torch.long)\n",
    "    return images, targets\n",
    "\n",
    "\n",
    "def evasion_solve_challenge(x_adv):\n",
    "    data = x_adv.astype(np.float32).tobytes()\n",
    "    response = POST(\"api/evasion/solve_challenge\", data)\n",
    "    handle_errors(response)\n",
    "    token = response.text\n",
    "    print(f\"{token=}\")\n",
    "    return token\n",
    "\n",
    "\n",
    "def stealing_get_challenge():\n",
    "    response = GET(\"api/stealing/get_challenge\")\n",
    "    handle_errors(response)\n",
    "    challenge = json.loads(response.content.decode(\"utf-8\"))\n",
    "    images = torch.tensor(np.array(challenge[\"images\"], dtype=np.float32))\n",
    "    return images\n",
    "\n",
    "\n",
    "def stealing_solve_challenge(scores):\n",
    "    data = scores.astype(np.float32).tobytes()\n",
    "    response = POST(\"api/stealing/solve_challenge\", data)\n",
    "    handle_errors(response)\n",
    "    token = response.text\n",
    "    print(f\"{token=}\")\n",
    "    return token\n",
    "\n",
    "\n",
    "def predict(images):\n",
    "    if not isinstance(images, np.ndarray) or images.dtype != np.float32:\n",
    "        raise ValueError(\"Wrong format for images. Expected nd.array(dtype=np.float32)\")\n",
    "    response = POST(\"api/predict\", images.tobytes())\n",
    "    return response\n",
    "\n",
    "\n",
    "# activate('evasion', 'Bry9sRljXXY8IElLjPLIoaQOSbXSXyq')\n",
    "images, targets = evasion_get_challenge()\n",
    "images_npy = images.numpy()\n",
    "\n",
    "plt.figure(figsize=(14,14))\n",
    "_ = plt.imshow(images_npy.transpose(0,2,1).transpose(2,0,1).reshape(28, -1)[:,:10*28])\n",
    "print(f'Adversarial targets: {targets[:10]}')"
   ]
  },
  {
   "cell_type": "markdown",
   "id": "5091e0f3-2120-436f-9879-2c4f96eda804",
   "metadata": {},
   "source": [
    "## Stealing task"
   ]
  },
  {
   "cell_type": "markdown",
   "id": "837d1424-22cd-4c96-a629-8ab23b115178",
   "metadata": {},
   "source": [
    "### Get our tensors"
   ]
  },
  {
   "cell_type": "code",
   "execution_count": 5,
   "id": "9521b59e-7ee6-4bfa-a5cc-7f884bad93d5",
   "metadata": {},
   "outputs": [
    {
     "name": "stdout",
     "output_type": "stream",
     "text": [
      "Predicted by API labels: [3 2 3 1 1 0 8 5 8 1]\n"
     ]
    },
    {
     "data": {
      "text/plain": [
       "(torch.Tensor, torch.Tensor, torch.Tensor)"
      ]
     },
     "execution_count": 5,
     "metadata": {},
     "output_type": "execute_result"
    }
   ],
   "source": [
    "resp = predict(images_npy)\n",
    "softmaxs = json.loads(resp.content.decode())['data']\n",
    "softmaxs = np.array(softmaxs)\n",
    "print(f'Predicted by API labels: {np.argmax(softmaxs[:10], axis=1)}')\n",
    "\n",
    "gt_targets = torch.tensor(softmaxs)\n",
    "gt_images = images\n",
    "adv_targets = targets\n",
    "\n",
    "type(gt_targets), type(gt_images), type(adv_targets)"
   ]
  },
  {
   "cell_type": "markdown",
   "id": "a821bfba-d67f-452e-a6e0-bfd517f76478",
   "metadata": {},
   "source": [
    "### Surrogate CNN"
   ]
  },
  {
   "cell_type": "code",
   "execution_count": 272,
   "id": "0479901e-e513-48aa-8c57-c7c1b1a918de",
   "metadata": {},
   "outputs": [],
   "source": [
    "import torch\n",
    "import torch.nn as nn\n",
    "import torch.optim as optim\n",
    "from torch.utils.data import DataLoader, TensorDataset, random_split\n",
    "\n",
    "# Define the surrogate model (same as the CustomCNN model)\n",
    "class SurrogateCNN(nn.Module):\n",
    "    def __init__(self, num_classes=10):\n",
    "        super(SurrogateCNN, self).__init__()\n",
    "        self.conv1 = nn.Conv2d(1, 32, kernel_size=3, stride=1, padding=1)\n",
    "        self.bn1 = nn.BatchNorm2d(32)\n",
    "        self.relu1 = nn.ReLU()\n",
    "        self.pool1 = nn.MaxPool2d(kernel_size=2, stride=2, padding=0)\n",
    "        self.conv2 = nn.Conv2d(32, 64, kernel_size=3, stride=1, padding=1)\n",
    "        self.bn2 = nn.BatchNorm2d(64)\n",
    "        self.relu2 = nn.ReLU()\n",
    "        self.pool2 = nn.MaxPool2d(kernel_size=2, stride=2, padding=0)\n",
    "        self.conv3 = nn.Conv2d(64, 128, kernel_size=3, stride=1, padding=1)\n",
    "        self.bn3 = nn.BatchNorm2d(128)\n",
    "        self.relu3 = nn.ReLU()\n",
    "        self.pool3 = nn.MaxPool2d(kernel_size=2, stride=2, padding=0)\n",
    "        self.fc1 = nn.Linear(128 * 3 * 3, 512)\n",
    "        self.dropout = nn.Dropout(0.5)\n",
    "        self.relu4 = nn.ReLU()\n",
    "        self.fc2 = nn.Linear(512, num_classes)\n",
    "        self.softmax = nn.Softmax(dim=1)  # Add softmax layer\n",
    "\n",
    "    def forward(self, x):\n",
    "        x = self.pool1(self.relu1(self.bn1(self.conv1(x))))\n",
    "        x = self.pool2(self.relu2(self.bn2(self.conv2(x))))\n",
    "        x = self.pool3(self.relu3(self.bn3(self.conv3(x))))\n",
    "        x = x.view(-1, 128 * 3 * 3)\n",
    "        x = self.dropout(self.relu4(self.fc1(x)))\n",
    "        x = self.fc2(x)\n",
    "        x = self.softmax(x)  # Apply softmax\n",
    "        return x"
   ]
  },
  {
   "cell_type": "markdown",
   "id": "0ea76743-bc64-4d21-852d-9fc5e90ee2c7",
   "metadata": {
    "jp-MarkdownHeadingCollapsed": true
   },
   "source": [
    "### Enhanced surrogate CNN"
   ]
  },
  {
   "cell_type": "code",
   "execution_count": 141,
   "id": "f369fedc-567b-46c3-be4c-346bde940b1c",
   "metadata": {},
   "outputs": [],
   "source": [
    "# Define the enhanced surrogate model\n",
    "class EnhancedSurrogateCNN(nn.Module):\n",
    "    def __init__(self, num_classes=10):\n",
    "        super(EnhancedSurrogateCNN, self).__init__()\n",
    "        self.conv1 = nn.Conv2d(1, 64, kernel_size=3, stride=1, padding=1)\n",
    "        self.bn1 = nn.BatchNorm2d(64)\n",
    "        self.relu1 = nn.ReLU()\n",
    "        self.pool1 = nn.MaxPool2d(kernel_size=2, stride=2, padding=0)\n",
    "\n",
    "        self.conv2 = nn.Conv2d(64, 128, kernel_size=3, stride=1, padding=1)\n",
    "        self.bn2 = nn.BatchNorm2d(128)\n",
    "        self.relu2 = nn.ReLU()\n",
    "        self.pool2 = nn.MaxPool2d(kernel_size=2, stride=2, padding=0)\n",
    "\n",
    "        self.conv3 = nn.Conv2d(128, 256, kernel_size=3, stride=1, padding=1)\n",
    "        self.bn3 = nn.BatchNorm2d(256)\n",
    "        self.relu3 = nn.ReLU()\n",
    "        self.pool3 = nn.MaxPool2d(kernel_size=2, stride=2, padding=0)\n",
    "\n",
    "        self.conv4 = nn.Conv2d(256, 512, kernel_size=3, stride=1, padding=1)\n",
    "        self.bn4 = nn.BatchNorm2d(512)\n",
    "        self.relu4 = nn.ReLU()\n",
    "        self.pool4 = nn.MaxPool2d(kernel_size=2, stride=2, padding=0)\n",
    "\n",
    "        self.fc1 = nn.Linear(512 * 1 * 1, 1024)\n",
    "        self.dropout1 = nn.Dropout(0.5)\n",
    "        self.relu5 = nn.ReLU()\n",
    "\n",
    "        self.fc2 = nn.Linear(1024, 512)\n",
    "        self.dropout2 = nn.Dropout(0.5)\n",
    "        self.relu6 = nn.ReLU()\n",
    "\n",
    "        self.fc3 = nn.Linear(512, num_classes)\n",
    "        self.softmax = nn.Softmax(dim=1)  # Add softmax layer\n",
    "\n",
    "    def forward(self, x):\n",
    "        x = self.pool1(self.relu1(self.bn1(self.conv1(x))))\n",
    "        x = self.pool2(self.relu2(self.bn2(self.conv2(x))))\n",
    "        x = self.pool3(self.relu3(self.bn3(self.conv3(x))))\n",
    "        x = self.pool4(self.relu4(self.bn4(self.conv4(x))))\n",
    "        x = x.view(-1, 512 * 1 * 1)\n",
    "        x = self.dropout1(self.relu5(self.fc1(x)))\n",
    "        x = self.dropout2(self.relu6(self.fc2(x)))\n",
    "        x = self.fc3(x)\n",
    "        x = self.softmax(x)  # Apply softmax\n",
    "        return x"
   ]
  },
  {
   "cell_type": "markdown",
   "id": "6181530c-82b4-412d-8890-44e93a3219d6",
   "metadata": {},
   "source": [
    "### Train surrogate model"
   ]
  },
  {
   "cell_type": "code",
   "execution_count": 195,
   "id": "afd2ab5b-e0f9-4ce1-b65c-0cfbf72e4a61",
   "metadata": {
    "scrolled": true
   },
   "outputs": [
    {
     "name": "stdout",
     "output_type": "stream",
     "text": [
      "Epoch 1, Train Loss: 2.2924, Val Loss: 2.2964\n",
      "Epoch 2, Train Loss: 2.2376, Val Loss: 2.2586\n"
     ]
    },
    {
     "data": {
      "image/png": "[encoded data removed]",
      "text/plain": [
       "<Figure size 640x480 with 1 Axes>"
      ]
     },
     "metadata": {},
     "output_type": "display_data"
    }
   ],
   "source": [
    "##### VARIABLES #####\n",
    "num_epochs = 2\n",
    "surrogate_model = EnhancedSurrogateCNN(num_classes=10)\n",
    "best_model_path = 'best_enhanced_surrogate_model_1554.pt'\n",
    "#####################\n",
    "\n",
    "# Initialize the surrogate model, loss function, and optimizer\n",
    "# criterion = nn.KLDivLoss(reduction='batchmean')  # KL Divergence loss for matching softmax outputs\n",
    "criterion = nn.CrossEntropyLoss()\n",
    "optimizer = optim.Adam(surrogate_model.parameters(), lr=0.001, weight_decay=1e-5)\n",
    "scheduler = optim.lr_scheduler.CyclicLR(optimizer, base_lr=0.0001, max_lr=0.001, mode='triangular', cycle_momentum=False)\n",
    "# scheduler = optim.lr_scheduler.ReduceLROnPlateau(optimizer, mode='min', factor=0.1, patience=20, verbose=True)\n",
    "\n",
    "# Dataset\n",
    "inputs = images.unsqueeze(1)\n",
    "softmax_outputs = gt_targets\n",
    "dataset = TensorDataset(inputs, softmax_outputs)\n",
    "\n",
    "# Split the dataset into training and validation sets\n",
    "train_size = int(0.8 * len(dataset))\n",
    "val_size = len(dataset) - train_size\n",
    "train_dataset, val_dataset = random_split(dataset, [train_size, val_size])\n",
    "\n",
    "train_loader = DataLoader(train_dataset, batch_size=32, shuffle=True)\n",
    "val_loader = DataLoader(val_dataset, batch_size=32, shuffle=False)\n",
    "\n",
    "# Training loop for the surrogate model\n",
    "train_losses, val_losses = [], []\n",
    "min_loss, best_epoch = np.inf, -1\n",
    "\n",
    "for epoch in range(num_epochs):\n",
    "    surrogate_model.train()\n",
    "    running_loss = 0.0\n",
    "    for inputs, softmax_outputs in train_loader:\n",
    "        optimizer.zero_grad()\n",
    "        outputs = surrogate_model(inputs).log_softmax(dim=1)  # Log-softmax for KL Divergence\n",
    "        loss = criterion(outputs, softmax_outputs)\n",
    "        loss.backward()\n",
    "        optimizer.step()\n",
    "        scheduler.step()\n",
    "        running_loss += loss.item()\n",
    "\n",
    "    # Validation step\n",
    "    surrogate_model.eval()\n",
    "    val_loss = 0.0\n",
    "    with torch.no_grad():\n",
    "        for inputs, softmax_outputs in val_loader:\n",
    "            outputs = surrogate_model(inputs).log_softmax(dim=1)\n",
    "            loss = criterion(outputs, softmax_outputs)\n",
    "            val_loss += loss.item()\n",
    "\n",
    "    # Compute the losses\n",
    "    train_loss = running_loss / len(train_loader)\n",
    "    val_loss = val_loss / len(val_loader)\n",
    "    train_losses.append(train_loss)\n",
    "    val_losses.append(val_loss)\n",
    "    print(f'Epoch {epoch+1}, Train Loss: {train_loss:.4f}, Val Loss: {val_loss:.4f}')\n",
    "\n",
    "    # Save the best model in case\n",
    "    if val_loss < min_loss:\n",
    "        min_loss = val_loss\n",
    "        best_epoch = epoch\n",
    "        torch.save(surrogate_model.state_dict(), best_model_path)\n",
    "\n",
    "    # Update the lr\n",
    "    # scheduler.step(val_loss)\n",
    "\n",
    "# Load the best model\n",
    "surrogate_model.load_state_dict(torch.load(best_model_path))\n",
    "\n",
    "# Plot the loss\n",
    "plt.plot(list(range(num_epochs)), train_losses, label='train')\n",
    "plt.plot(list(range(num_epochs)), val_losses, label='val')\n",
    "plt.axvline(best_epoch, c='r')\n",
    "plt.legend()\n",
    "_ = plt.title(f'Best val_loss: {min_loss:.3f} at epoch {best_epoch}')"
   ]
  },
  {
   "cell_type": "markdown",
   "id": "cc049e72-ff54-4c6a-bc93-db559aea0041",
   "metadata": {
    "jp-MarkdownHeadingCollapsed": true
   },
   "source": [
    "## Prediction on test data"
   ]
  },
  {
   "cell_type": "code",
   "execution_count": 166,
   "id": "6dda4fcd-d6ec-4a25-a65f-4ba6c6612ba6",
   "metadata": {},
   "outputs": [
    {
     "data": {
      "image/png": "[encoded data removed]",
      "text/plain": [
       "<Figure size 1400x1400 with 1 Axes>"
      ]
     },
     "metadata": {},
     "output_type": "display_data"
    }
   ],
   "source": [
    "test_images = stealing_get_challenge()\n",
    "\n",
    "plt.figure(figsize=(14,14))\n",
    "_ = plt.imshow(test_images.numpy().transpose(0,2,1).transpose(2,0,1).reshape(28, -1)[:,:10*28])"
   ]
  },
  {
   "cell_type": "code",
   "execution_count": 167,
   "id": "0407e07a-1ef8-40eb-98c1-f31cf3c50fac",
   "metadata": {},
   "outputs": [
    {
     "name": "stdout",
     "output_type": "stream",
     "text": [
      "token='eyJub25jZSI6ICJJbXU3MFJIa1ArV3FjMENhSDhhV2xRPT0iLCAidG9rZW4iOiAidHpWTHR5N0dxc2JKZEhxbzkrS2hYOXE2TXZ6R0gvMUJoN3duZ0hWVmIzYjloZ0w3dTV4Q1owczV5Q2JQUWhEZnExSWJ6b2tUbUpkSEtDQkFLTUhuVlJnRU0ycDh4YnpRN2EwVkJkektraW1lYWJOSVNOdjYrNStSWWRLQkdNS3UwaktoQXc9PSIsICJ0YWciOiAidzBEUGVvbWFENUx1bWFzM0NvU3Y3Zz09In0='\n"
     ]
    }
   ],
   "source": [
    "# Load best model\n",
    "best_model = 'Previous models/best_enhanced_surrogate_model_149.pt'\n",
    "surrogate_model.load_state_dict(torch.load(best_model))\n",
    "\n",
    "# Prediction\n",
    "scores = surrogate_model(test_images.unsqueeze(1))\n",
    "token = stealing_solve_challenge(scores.detach().numpy())"
   ]
  },
  {
   "cell_type": "markdown",
   "id": "ad1a741d-a954-46f2-bccc-ca6d1354079e",
   "metadata": {},
   "source": [
    "## Evasion task "
   ]
  },
  {
   "cell_type": "markdown",
   "id": "fe25e8b3-d8c1-4783-b08c-38ff812323bb",
   "metadata": {},
   "source": [
    "### Generate adversarial examples"
   ]
  },
  {
   "cell_type": "code",
   "execution_count": 316,
   "id": "e8cb8c92-8d02-4d68-9298-3808d151ee7f",
   "metadata": {},
   "outputs": [
    {
     "ename": "RuntimeError",
     "evalue": "a Tensor with 32 elements cannot be converted to Scalar",
     "output_type": "error",
     "traceback": [
      "\u001b[0;31m---------------------------------------------------------------------------\u001b[0m",
      "\u001b[0;31mRuntimeError\u001b[0m                              Traceback (most recent call last)",
      "Cell \u001b[0;32mIn[316], line 115\u001b[0m\n\u001b[1;32m    113\u001b[0m \u001b[38;5;66;03m# Run test for each epsilon\u001b[39;00m\n\u001b[1;32m    114\u001b[0m \u001b[38;5;28;01mfor\u001b[39;00m eps \u001b[38;5;129;01min\u001b[39;00m epsilons:\n\u001b[0;32m--> 115\u001b[0m     acc, ex \u001b[38;5;241m=\u001b[39m \u001b[43mtest\u001b[49m\u001b[43m(\u001b[49m\u001b[43mmodel\u001b[49m\u001b[43m,\u001b[49m\u001b[43m \u001b[49m\u001b[43mdevice\u001b[49m\u001b[43m,\u001b[49m\u001b[43m \u001b[49m\u001b[43mDataLoader\u001b[49m\u001b[43m(\u001b[49m\u001b[43mTensorDataset\u001b[49m\u001b[43m(\u001b[49m\u001b[43mimages\u001b[49m\u001b[38;5;241;43m.\u001b[39;49m\u001b[43munsqueeze\u001b[49m\u001b[43m(\u001b[49m\u001b[38;5;241;43m1\u001b[39;49m\u001b[43m)\u001b[49m\u001b[43m,\u001b[49m\u001b[43m \u001b[49m\u001b[43madv_targets\u001b[49m\u001b[43m)\u001b[49m\u001b[43m,\u001b[49m\u001b[43m \u001b[49m\u001b[43mbatch_size\u001b[49m\u001b[38;5;241;43m=\u001b[39;49m\u001b[38;5;241;43m32\u001b[39;49m\u001b[43m,\u001b[49m\u001b[43m \u001b[49m\u001b[43mshuffle\u001b[49m\u001b[38;5;241;43m=\u001b[39;49m\u001b[38;5;28;43;01mTrue\u001b[39;49;00m\u001b[43m)\u001b[49m\u001b[43m,\u001b[49m\u001b[43m \u001b[49m\u001b[43meps\u001b[49m\u001b[43m)\u001b[49m\n\u001b[1;32m    116\u001b[0m     accuracies\u001b[38;5;241m.\u001b[39mappend(acc)\n\u001b[1;32m    117\u001b[0m     examples\u001b[38;5;241m.\u001b[39mappend(ex)\n",
      "Cell \u001b[0;32mIn[316], line 61\u001b[0m, in \u001b[0;36mtest\u001b[0;34m(model, device, test_loader, epsilon)\u001b[0m\n\u001b[1;32m     58\u001b[0m init_pred \u001b[38;5;241m=\u001b[39m output\u001b[38;5;241m.\u001b[39mmax(\u001b[38;5;241m1\u001b[39m, keepdim\u001b[38;5;241m=\u001b[39m\u001b[38;5;28;01mTrue\u001b[39;00m)[\u001b[38;5;241m1\u001b[39m] \u001b[38;5;66;03m# get the index of the max log-probability\u001b[39;00m\n\u001b[1;32m     60\u001b[0m \u001b[38;5;66;03m# If the initial prediction is wrong, don't bother attacking, just move on\u001b[39;00m\n\u001b[0;32m---> 61\u001b[0m \u001b[38;5;28;01mif\u001b[39;00m \u001b[43minit_pred\u001b[49m\u001b[38;5;241;43m.\u001b[39;49m\u001b[43mitem\u001b[49m\u001b[43m(\u001b[49m\u001b[43m)\u001b[49m \u001b[38;5;241m!=\u001b[39m target\u001b[38;5;241m.\u001b[39mitem():\n\u001b[1;32m     62\u001b[0m     \u001b[38;5;28;01mcontinue\u001b[39;00m\n\u001b[1;32m     64\u001b[0m \u001b[38;5;66;03m# Calculate the loss\u001b[39;00m\n",
      "\u001b[0;31mRuntimeError\u001b[0m: a Tensor with 32 elements cannot be converted to Scalar"
     ]
    }
   ],
   "source": [
    "import torch\n",
    "import torch.nn as nn\n",
    "import torch.nn.functional as F\n",
    "import torch.optim as optim\n",
    "import numpy as np\n",
    "import matplotlib.pyplot as plt\n",
    "\n",
    "\n",
    "epsilons = [0, .05, .1, .15, .2, .25, .3]\n",
    "\n",
    "\n",
    "# FGSM attack code\n",
    "def fgsm_attack(image, epsilon, data_grad):\n",
    "    # Collect the element-wise sign of the data gradient\n",
    "    sign_data_grad = data_grad.sign()\n",
    "    # Create the perturbed image by adjusting each pixel of the input image\n",
    "    perturbed_image = image + epsilon*sign_data_grad\n",
    "    # Adding clipping to maintain [0,1] range\n",
    "    perturbed_image = torch.clamp(perturbed_image, 0, 1)\n",
    "    # Return the perturbed image\n",
    "    return perturbed_image\n",
    "\n",
    "# restores the tensors to their original scale\n",
    "def denorm(batch, mean=[0.1307], std=[0.3081]):\n",
    "    \"\"\"\n",
    "    Convert a batch of tensors to their original scale.\n",
    "\n",
    "    Args:\n",
    "        batch (torch.Tensor): Batch of normalized tensors.\n",
    "        mean (torch.Tensor or list): Mean used for normalization.\n",
    "        std (torch.Tensor or list): Standard deviation used for normalization.\n",
    "\n",
    "    Returns:\n",
    "        torch.Tensor: batch of tensors without normalization applied to them.\n",
    "    \"\"\"\n",
    "    if isinstance(mean, list):\n",
    "        mean = torch.tensor(mean).to(device)\n",
    "    if isinstance(std, list):\n",
    "        std = torch.tensor(std).to(device)\n",
    "\n",
    "    return batch * std.view(1, -1, 1, 1) + mean.view(1, -1, 1, 1)\n",
    "\n",
    "\n",
    "def test( model, device, test_loader, epsilon ):\n",
    "\n",
    "    # Accuracy counter\n",
    "    correct = 0\n",
    "    adv_examples = []\n",
    "\n",
    "    # Loop over all examples in test set\n",
    "    for data, target in test_loader:\n",
    "\n",
    "        # Set requires_grad attribute of tensor. Important for Attack\n",
    "        data.requires_grad = True\n",
    "\n",
    "        # Forward pass the data through the model\n",
    "        output = model(data)\n",
    "        init_pred = output.max(1, keepdim=True)[1] # get the index of the max log-probability\n",
    "\n",
    "        # If the initial prediction is wrong, don't bother attacking, just move on\n",
    "        if init_pred.item() != target.item():\n",
    "            continue\n",
    "\n",
    "        # Calculate the loss\n",
    "        loss = F.nll_loss(output, target)\n",
    "\n",
    "        # Zero all existing gradients\n",
    "        model.zero_grad()\n",
    "\n",
    "        # Calculate gradients of model in backward pass\n",
    "        loss.backward()\n",
    "\n",
    "        # Collect ``datagrad``\n",
    "        data_grad = data.grad.data\n",
    "\n",
    "        # Restore the data to its original scale\n",
    "        data_denorm = denorm(data)\n",
    "\n",
    "        # Call FGSM Attack\n",
    "        perturbed_data = fgsm_attack(data_denorm, epsilon, data_grad)\n",
    "\n",
    "        # Reapply normalization\n",
    "        perturbed_data_normalized = transforms.Normalize((0.1307,), (0.3081,))(perturbed_data)\n",
    "\n",
    "        # Re-classify the perturbed image\n",
    "        output = model(perturbed_data_normalized)\n",
    "\n",
    "        # Check for success\n",
    "        final_pred = output.max(1, keepdim=True)[1] # get the index of the max log-probability\n",
    "        if final_pred.item() == target.item():\n",
    "            correct += 1\n",
    "            # Special case for saving 0 epsilon examples\n",
    "            if epsilon == 0 and len(adv_examples) < 5:\n",
    "                adv_ex = perturbed_data.squeeze().detach().cpu().numpy()\n",
    "                adv_examples.append( (init_pred.item(), final_pred.item(), adv_ex) )\n",
    "        else:\n",
    "            # Save some adv examples for visualization later\n",
    "            if len(adv_examples) < 5:\n",
    "                adv_ex = perturbed_data.squeeze().detach().cpu().numpy()\n",
    "                adv_examples.append( (init_pred.item(), final_pred.item(), adv_ex) )\n",
    "\n",
    "    # Calculate final accuracy for this epsilon\n",
    "    final_acc = correct/float(len(test_loader))\n",
    "    print(f\"Epsilon: {epsilon}\\tTest Accuracy = {correct} / {len(test_loader)} = {final_acc}\")\n",
    "\n",
    "    # Return the accuracy and an adversarial example\n",
    "    return final_acc, adv_examples\n",
    "\n",
    "\n",
    "accuracies = []\n",
    "examples = []\n",
    "\n",
    "# Run test for each epsilon\n",
    "for eps in epsilons:\n",
    "    acc, ex = test(model, device, DataLoader(TensorDataset(images.unsqueeze(1), adv_targets), batch_size=32, shuffle=True), eps)\n",
    "    accuracies.append(acc)\n",
    "    examples.append(ex)\n",
    "\n",
    "\n",
    "\n",
    "plt.figure(figsize=(5,5))\n",
    "plt.plot(epsilons, accuracies, \"*-\")\n",
    "plt.yticks(np.arange(0, 1.1, step=0.1))\n",
    "plt.xticks(np.arange(0, .35, step=0.05))\n",
    "plt.title(\"Accuracy vs Epsilon\")\n",
    "plt.xlabel(\"Epsilon\")\n",
    "plt.ylabel(\"Accuracy\")\n",
    "plt.show()"
   ]
  },
  {
   "cell_type": "code",
   "execution_count": 323,
   "id": "455b834f-4312-48fe-b42a-d7d6ecd39dd6",
   "metadata": {},
   "outputs": [
    {
     "name": "stdout",
     "output_type": "stream",
     "text": [
      "0\n",
      "50\n",
      "100\n",
      "150\n",
      "200\n",
      "250\n",
      "Accuracy of the surrogate model on adversarial examples: 7.00%\n"
     ]
    }
   ],
   "source": [
    "# Load best model\n",
    "# best_model = 'Previous models/best_enhanced_surrogate_model_149.pt' # 3.57%\n",
    "# best_model = 'Previous models/best_enhanced_surrogate_model_1471.pt' # 3.57%\n",
    "# best_model = 'Previous models/best_enhanced_surrogate_model_1435.pt' #\n",
    "# best_model = 'Previous models/best_surrogate_model_168.pt' # 1.67%\n",
    "best_model = 'best_surrogate_model_1569.pt' # 8.67%\n",
    "# best_model = 'best_enhanced_surrogate_model_1554.pt' # 6.33%\n",
    "# best_model = 'Previous models/best_enhanced_surrogate_model_157.pt' # \n",
    "# surrogate_model = SurrogateCNN(num_classes=10)\n",
    "surrogate_model = EnhancedSurrogateCNN(num_classes=10)\n",
    "surrogate_model2 = EnhancedSurrogateCNN(num_classes=10)\n",
    "\n",
    "surrogate_model.load_state_dict(torch.load(best_model))\n",
    "surrogate_model2.load_state_dict(torch.load(best_model))\n",
    "surrogate_model2.eval()\n",
    "\n",
    "\n",
    "# Function to create adversarial examples using FGSM\n",
    "def fgsm_attack(model, loss_fn, images, labels, epsilon):\n",
    "    images = images.clone().detach().requires_grad_(True)\n",
    "    outputs = model(images)\n",
    "    loss = loss_fn(outputs, labels)\n",
    "    model.zero_grad()\n",
    "    loss.backward()\n",
    "    data_grad = images.grad.data\n",
    "    sign_data_grad = data_grad.sign()\n",
    "    perturbed_image = images + epsilon * sign_data_grad\n",
    "    perturbed_image = torch.clamp(perturbed_image, 0, 255)\n",
    "    return perturbed_image\n",
    "\n",
    "# Parameters\n",
    "epsilon = .1\n",
    "\n",
    "# Generate adversarial examples\n",
    "surrogate_model.eval()\n",
    "adv_examples = []\n",
    "\n",
    "# Example target labels (replace with your actual target labels)\n",
    "images, adv_targets = evasion_get_challenge()\n",
    "target_labels = adv_targets\n",
    "\n",
    "for sample, (input_, target_label) in enumerate(zip(images, adv_targets)):\n",
    "    if sample % 50 == 0:\n",
    "        print(sample)\n",
    "    input_, target_label = input_.unsqueeze(0).unsqueeze(0), target_label.unsqueeze(0)\n",
    "\n",
    "    i = 0\n",
    "    predicted = -1\n",
    "    while predicted != target_label and i < 10:\n",
    "        perturbed_data = fgsm_attack(surrogate_model, nn.CrossEntropyLoss(), input_, target_label, epsilon)\n",
    "        outputs = surrogate_model(perturbed_data)\n",
    "        _, predicted = torch.max(outputs.data, 1)\n",
    "        i += 1\n",
    "        input_ = perturbed_data  # Update the input for the next iteration\n",
    "        # print(outputs, predicted, target_label)\n",
    "\n",
    "    adv_examples.append((perturbed_data, target_label))\n",
    "\n",
    "# Evaluate the surrogate model on adversarial examples\n",
    "correct = 0\n",
    "total = 0\n",
    "\n",
    "with torch.no_grad():\n",
    "    for perturbed_data, target_label in adv_examples:\n",
    "        outputs = surrogate_model(perturbed_data)\n",
    "        _, predicted = torch.max(outputs.data, 1)\n",
    "        total += target_label.size(0)\n",
    "        correct += (predicted == target_label).sum().item()\n",
    "\n",
    "print(f'Accuracy of the surrogate model on adversarial examples: {100 * correct / total:.2f}%')"
   ]
  },
  {
   "cell_type": "code",
   "execution_count": 324,
   "id": "6fe4d789-97c7-406e-a454-6bd227de9d08",
   "metadata": {},
   "outputs": [
    {
     "data": {
      "text/plain": [
       "((300, 28, 28), numpy.ndarray)"
      ]
     },
     "execution_count": 324,
     "metadata": {},
     "output_type": "execute_result"
    }
   ],
   "source": [
    "x_adv = np.array([perturbed_data.squeeze().detach().numpy() for perturbed_data, _ in adv_examples])\n",
    "x_adv.shape, type(x_adv)"
   ]
  },
  {
   "cell_type": "code",
   "execution_count": 325,
   "id": "02a80877-5699-4456-aa98-0cb4fa4d6019",
   "metadata": {},
   "outputs": [
    {
     "name": "stdout",
     "output_type": "stream",
     "text": [
      "token='eyJub25jZSI6ICJDSUNoM0IxWGdUek1mM3NHbDR4QzRRPT0iLCAidG9rZW4iOiAid002eTEzajJraC9JcmRwSVhQaGU1aUttZXhGVWpXQ29rWVVYVCs5MFNIUDBLeWV5RFdFOVRQNlRqTGRyQndqc29sd3FKQjlqVk8zSjBTbU5UOXBkRUUvcHMvYTZoYXY0OWthT2FNdDZEOE9yenNvcGpEQzJOQ093RExMTGtESzk4ZkpEMkNBaVNlYTdvZWp5cmFFdi92TDNmQjdQQTlBNU5jMmMrakNFSjBRRzRtRDdKMjFZaVlZdnJyL25aQ289IiwgInRhZyI6ICJBWFBIVDlUR2c4VUt4Z3dwNVhIZW13PT0ifQ=='\n",
      "eyJub25jZSI6ICJDSUNoM0IxWGdUek1mM3NHbDR4QzRRPT0iLCAidG9rZW4iOiAid002eTEzajJraC9JcmRwSVhQaGU1aUttZXhGVWpXQ29rWVVYVCs5MFNIUDBLeWV5RFdFOVRQNlRqTGRyQndqc29sd3FKQjlqVk8zSjBTbU5UOXBkRUUvcHMvYTZoYXY0OWthT2FNdDZEOE9yenNvcGpEQzJOQ093RExMTGtESzk4ZkpEMkNBaVNlYTdvZWp5cmFFdi92TDNmQjdQQTlBNU5jMmMrakNFSjBRRzRtRDdKMjFZaVlZdnJyL25aQ289IiwgInRhZyI6ICJBWFBIVDlUR2c4VUt4Z3dwNVhIZW13PT0ifQ==\n"
     ]
    }
   ],
   "source": [
    "print(evasion_solve_challenge(x_adv))"
   ]
  },
  {
   "cell_type": "code",
   "execution_count": null,
   "id": "3f37c8aa-775f-45d9-a989-e0e4d5b7d2c4",
   "metadata": {},
   "outputs": [],
   "source": [
    "eyJub25jZSI6ICJBYTQzbzNhRW02MjRJT2RpV1BkdmJRPT0iLCAidG9rZW4iOiAiZTBlemhIbCtwZW15dDYwalkzM095OGdGN1RUK05uOGt1UERFT3BacExuR0liSFBVbFkvdWkwMkx5OXhIQlpjNmFhMGR6NFpXUXRhRUtKcDY2ekwrbW0yZ3pZWXRPeTRBQnpGcHByRW1KbXNSOTc3RFpQbTBlYk04MUtmK0t3PT0iLCAidGFnIjogImN1dU0wcitMVEVEZC8vT1hWRmJtUlE9PSJ9"
   ]
  }
 ],
 "metadata": {
  "kernelspec": {
   "display_name": "Python 3 (ipykernel)",
   "language": "python",
   "name": "python3"
  },
  "language_info": {
   "codemirror_mode": {
    "name": "ipython",
    "version": 3
   },
   "file_extension": ".py",
   "mimetype": "text/x-python",
   "name": "python",
   "nbconvert_exporter": "python",
   "pygments_lexer": "ipython3",
   "version": "3.11.2"
  }
 },
 "nbformat": 4,
 "nbformat_minor": 5
}
